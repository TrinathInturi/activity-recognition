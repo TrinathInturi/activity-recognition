{
 "cells": [
  {
   "cell_type": "code",
   "execution_count": 214,
   "metadata": {},
   "outputs": [],
   "source": [
    "import os\n",
    "import numpy as np\n",
    "import pandas as pd\n",
    "import matplotlib.pyplot as plt\n",
    "import tensorflow as tf\n",
    "from tensorflow.keras.models import Sequential\n",
    "from tensorflow.keras.layers import Dense, Dropout, LSTM"
   ]
  },
  {
   "cell_type": "code",
   "execution_count": 215,
   "metadata": {},
   "outputs": [],
   "source": [
    "data_dir = 'data/Training Data'\n",
    "users = ['User001', 'User002', 'User003', 'User004', 'User005', 'User006', 'User007', 'User008', 'User009', 'User0010', 'User0011', 'User0012', 'User0013', 'User0014', 'User0015', 'User0016', 'User0017']"
   ]
  },
  {
   "cell_type": "code",
   "execution_count": 216,
   "metadata": {},
   "outputs": [],
   "source": [
    "def gyro_activity(gyro_data,threshold):\n",
    "    gyro_activity=['Standing']\n",
    "    \n",
    "    for i in range(1,len(gyro_data)):\n",
    "        mag = gyro_data.loc[i, 'magnitude']\n",
    "        if mag >= threshold:\n",
    "            activity = 'Walking'\n",
    "        elif gyro_data.loc[i-1, 'magnitude'] < gyro_data.loc[i, 'magnitude'] and mag >= threshold:\n",
    "            activity = 'Ascending'\n",
    "        elif gyro_data.loc[i-1, 'magnitude'] > gyro_data.loc[i, 'magnitude'] and mag >= threshold:\n",
    "            activity = 'Descending'\n",
    "        else:\n",
    "            activity = 'Standing'\n",
    "        gyro_activity.append(activity)\n",
    "    return gyro_activity\n"
   ]
  },
  {
   "cell_type": "code",
   "execution_count": 217,
   "metadata": {},
   "outputs": [],
   "source": [
    "accel_main=pd.DataFrame()\n",
    "gyro_main=pd.DataFrame()\n",
    "lin_accel_main=pd.DataFrame()\n",
    "\n",
    "for user in users:\n",
    "    accel_data_path = os.path.join(data_dir, user, 'HTC - Front', 'accelDataM.txt')\n",
    "    gyro_data_path = os.path.join(data_dir, user, 'HTC - Front', 'gyroDataM.txt')\n",
    "    lin_accel_data_path = os.path.join(data_dir, user, 'HTC - Front', 'linearAccelDataM.txt')\n",
    "\n",
    "    accel_data = pd.read_csv(accel_data_path, header=None, names=['timestamp', 'x', 'y', 'z'])\n",
    "    gyro_data = pd.read_csv(gyro_data_path, header=None, names=['timestamp', 'x', 'y', 'z'])\n",
    "    lin_accel_data = pd.read_csv(lin_accel_data_path, header=None, names=['timestamp', 'x', 'y', 'z'])\n",
    "   \n",
    "    accel_data['user']=user\n",
    "    gyro_data['user']=user\n",
    "    lin_accel_data['user']=user\n",
    "    \n",
    "    accel_data['magnitude']=np.sqrt(accel_data['x']**2 + accel_data['y']**2 + accel_data['z']**2)\n",
    "    accel_data['mean_mag'] = accel_data['magnitude'].rolling(window=20, min_periods=1).mean()\n",
    "    \n",
    "    gyro_data['magnitude'] = np.sqrt(gyro_data['x'] ** 2 + gyro_data['y'] ** 2 + gyro_data['z'] ** 2)\n",
    "    \n",
    "    ACCEL_THRESHOLD=accel_data['magnitude'].mean()\n",
    "    GYRO_THRESHOLD=gyro_data['magnitude'].mean()\n",
    "    STEP_LENGTH=0.7 #Meters (2.2 Feet)\n",
    "    \n",
    "    accel_data['peak'] = accel_data['mean_mag'] > ACCEL_THRESHOLD\n",
    "    accel_data['step'] = (accel_data['peak'] != accel_data['peak'].shift()) & (accel_data['peak'] == True)\n",
    "    accel_data['acc_activity']=accel_data['step'].apply(lambda x: 'Moving' if x==True else 'Standing')\n",
    "    \n",
    "    gyro_data['activity']=gyro_activity(gyro_data,GYRO_THRESHOLD)\n",
    "\n",
    "    accel_frames=[accel_main, accel_data]\n",
    "    gyro_frames=[gyro_main, gyro_data]\n",
    "    lin_accel_frames=[lin_accel_main, lin_accel_data]\n",
    "    \n",
    "    accel_main=pd.concat(accel_frames)\n",
    "    gyro_main=pd.concat(gyro_frames)\n",
    "    lin_accel_main=pd.concat(lin_accel_frames)\n",
    "    "
   ]
  },
  {
   "cell_type": "code",
   "execution_count": 218,
   "metadata": {},
   "outputs": [
    {
     "data": {
      "text/plain": [
       "(98258, 10)"
      ]
     },
     "execution_count": 218,
     "metadata": {},
     "output_type": "execute_result"
    }
   ],
   "source": [
    "accel_main.shape"
   ]
  },
  {
   "cell_type": "code",
   "execution_count": 219,
   "metadata": {},
   "outputs": [
    {
     "data": {
      "text/plain": [
       "Index(['timestamp', 'x', 'y', 'z', 'user', 'magnitude', 'mean_mag', 'peak',\n",
       "       'step', 'acc_activity'],\n",
       "      dtype='object')"
      ]
     },
     "execution_count": 219,
     "metadata": {},
     "output_type": "execute_result"
    }
   ],
   "source": [
    "accel_main.columns"
   ]
  },
  {
   "cell_type": "code",
   "execution_count": 220,
   "metadata": {},
   "outputs": [
    {
     "data": {
      "text/plain": [
       "(98262, 7)"
      ]
     },
     "execution_count": 220,
     "metadata": {},
     "output_type": "execute_result"
    }
   ],
   "source": [
    "gyro_main.shape"
   ]
  },
  {
   "cell_type": "code",
   "execution_count": 221,
   "metadata": {},
   "outputs": [
    {
     "data": {
      "text/plain": [
       "Index(['timestamp', 'x', 'y', 'z', 'user', 'magnitude', 'activity'], dtype='object')"
      ]
     },
     "execution_count": 221,
     "metadata": {},
     "output_type": "execute_result"
    }
   ],
   "source": [
    "gyro_main.columns"
   ]
  },
  {
   "cell_type": "code",
   "execution_count": 222,
   "metadata": {},
   "outputs": [
    {
     "data": {
      "text/plain": [
       "acc_activity\n",
       "Moving       3427\n",
       "Standing    94831\n",
       "Name: magnitude, dtype: int64"
      ]
     },
     "execution_count": 222,
     "metadata": {},
     "output_type": "execute_result"
    }
   ],
   "source": [
    "accel_main.groupby(by=\"acc_activity\")[\"magnitude\"].count()"
   ]
  },
  {
   "cell_type": "code",
   "execution_count": 223,
   "metadata": {},
   "outputs": [
    {
     "data": {
      "text/plain": [
       "activity\n",
       "Standing    55481\n",
       "Walking     42781\n",
       "Name: magnitude, dtype: int64"
      ]
     },
     "execution_count": 223,
     "metadata": {},
     "output_type": "execute_result"
    }
   ],
   "source": [
    "gyro_main.groupby(by=\"activity\")[\"magnitude\"].count()"
   ]
  },
  {
   "cell_type": "code",
   "execution_count": 224,
   "metadata": {},
   "outputs": [
    {
     "data": {
      "text/plain": [
       "user\n",
       "User001     164\n",
       "User0010    132\n",
       "User0011    190\n",
       "User0012    202\n",
       "User0013    243\n",
       "User0014    187\n",
       "User0015    210\n",
       "User0016    221\n",
       "User0017    196\n",
       "User002     170\n",
       "User003     170\n",
       "User004     219\n",
       "User005     212\n",
       "User006     227\n",
       "User007     183\n",
       "User008     248\n",
       "User009     253\n",
       "Name: step, dtype: int64"
      ]
     },
     "execution_count": 224,
     "metadata": {},
     "output_type": "execute_result"
    }
   ],
   "source": [
    "accel_main.groupby(by=\"user\")[\"step\"].sum()"
   ]
  },
  {
   "cell_type": "code",
   "execution_count": 225,
   "metadata": {},
   "outputs": [
    {
     "data": {
      "text/html": [
       "<div>\n",
       "<style scoped>\n",
       "    .dataframe tbody tr th:only-of-type {\n",
       "        vertical-align: middle;\n",
       "    }\n",
       "\n",
       "    .dataframe tbody tr th {\n",
       "        vertical-align: top;\n",
       "    }\n",
       "\n",
       "    .dataframe thead th {\n",
       "        text-align: right;\n",
       "    }\n",
       "</style>\n",
       "<table border=\"1\" class=\"dataframe\">\n",
       "  <thead>\n",
       "    <tr style=\"text-align: right;\">\n",
       "      <th></th>\n",
       "      <th>x</th>\n",
       "      <th>y</th>\n",
       "      <th>z</th>\n",
       "      <th>magnitude</th>\n",
       "      <th>mean_mag</th>\n",
       "    </tr>\n",
       "  </thead>\n",
       "  <tbody>\n",
       "    <tr>\n",
       "      <th>count</th>\n",
       "      <td>98258.000000</td>\n",
       "      <td>98258.000000</td>\n",
       "      <td>98258.000000</td>\n",
       "      <td>98258.000000</td>\n",
       "      <td>98258.000000</td>\n",
       "    </tr>\n",
       "    <tr>\n",
       "      <th>mean</th>\n",
       "      <td>0.609102</td>\n",
       "      <td>-6.365657</td>\n",
       "      <td>0.728163</td>\n",
       "      <td>10.709619</td>\n",
       "      <td>10.709626</td>\n",
       "    </tr>\n",
       "    <tr>\n",
       "      <th>std</th>\n",
       "      <td>3.415661</td>\n",
       "      <td>7.620364</td>\n",
       "      <td>4.439676</td>\n",
       "      <td>4.021635</td>\n",
       "      <td>1.279846</td>\n",
       "    </tr>\n",
       "    <tr>\n",
       "      <th>min</th>\n",
       "      <td>-22.039999</td>\n",
       "      <td>-39.489998</td>\n",
       "      <td>-38.379997</td>\n",
       "      <td>0.114455</td>\n",
       "      <td>6.508733</td>\n",
       "    </tr>\n",
       "    <tr>\n",
       "      <th>25%</th>\n",
       "      <td>-1.310000</td>\n",
       "      <td>-10.639999</td>\n",
       "      <td>-1.510000</td>\n",
       "      <td>8.839416</td>\n",
       "      <td>9.825935</td>\n",
       "    </tr>\n",
       "    <tr>\n",
       "      <th>50%</th>\n",
       "      <td>0.410000</td>\n",
       "      <td>-8.760000</td>\n",
       "      <td>0.300000</td>\n",
       "      <td>9.968004</td>\n",
       "      <td>10.395509</td>\n",
       "    </tr>\n",
       "    <tr>\n",
       "      <th>75%</th>\n",
       "      <td>2.400000</td>\n",
       "      <td>-3.760000</td>\n",
       "      <td>2.390000</td>\n",
       "      <td>11.960252</td>\n",
       "      <td>11.386998</td>\n",
       "    </tr>\n",
       "    <tr>\n",
       "      <th>max</th>\n",
       "      <td>29.670000</td>\n",
       "      <td>38.950000</td>\n",
       "      <td>40.059998</td>\n",
       "      <td>58.095557</td>\n",
       "      <td>18.986161</td>\n",
       "    </tr>\n",
       "  </tbody>\n",
       "</table>\n",
       "</div>"
      ],
      "text/plain": [
       "                  x             y             z     magnitude      mean_mag\n",
       "count  98258.000000  98258.000000  98258.000000  98258.000000  98258.000000\n",
       "mean       0.609102     -6.365657      0.728163     10.709619     10.709626\n",
       "std        3.415661      7.620364      4.439676      4.021635      1.279846\n",
       "min      -22.039999    -39.489998    -38.379997      0.114455      6.508733\n",
       "25%       -1.310000    -10.639999     -1.510000      8.839416      9.825935\n",
       "50%        0.410000     -8.760000      0.300000      9.968004     10.395509\n",
       "75%        2.400000     -3.760000      2.390000     11.960252     11.386998\n",
       "max       29.670000     38.950000     40.059998     58.095557     18.986161"
      ]
     },
     "execution_count": 225,
     "metadata": {},
     "output_type": "execute_result"
    }
   ],
   "source": [
    "accel_main.describe()"
   ]
  },
  {
   "cell_type": "code",
   "execution_count": 226,
   "metadata": {},
   "outputs": [
    {
     "data": {
      "text/html": [
       "<div>\n",
       "<style scoped>\n",
       "    .dataframe tbody tr th:only-of-type {\n",
       "        vertical-align: middle;\n",
       "    }\n",
       "\n",
       "    .dataframe tbody tr th {\n",
       "        vertical-align: top;\n",
       "    }\n",
       "\n",
       "    .dataframe thead th {\n",
       "        text-align: right;\n",
       "    }\n",
       "</style>\n",
       "<table border=\"1\" class=\"dataframe\">\n",
       "  <thead>\n",
       "    <tr style=\"text-align: right;\">\n",
       "      <th></th>\n",
       "      <th>x</th>\n",
       "      <th>y</th>\n",
       "      <th>z</th>\n",
       "      <th>magnitude</th>\n",
       "    </tr>\n",
       "  </thead>\n",
       "  <tbody>\n",
       "    <tr>\n",
       "      <th>count</th>\n",
       "      <td>98262.000000</td>\n",
       "      <td>98262.000000</td>\n",
       "      <td>98262.000000</td>\n",
       "      <td>98262.000000</td>\n",
       "    </tr>\n",
       "    <tr>\n",
       "      <th>mean</th>\n",
       "      <td>0.002586</td>\n",
       "      <td>0.032904</td>\n",
       "      <td>-0.010841</td>\n",
       "      <td>1.651970</td>\n",
       "    </tr>\n",
       "    <tr>\n",
       "      <th>std</th>\n",
       "      <td>1.307661</td>\n",
       "      <td>1.303422</td>\n",
       "      <td>0.833543</td>\n",
       "      <td>1.172967</td>\n",
       "    </tr>\n",
       "    <tr>\n",
       "      <th>min</th>\n",
       "      <td>-6.550000</td>\n",
       "      <td>-11.840000</td>\n",
       "      <td>-7.340000</td>\n",
       "      <td>0.000000</td>\n",
       "    </tr>\n",
       "    <tr>\n",
       "      <th>25%</th>\n",
       "      <td>-0.630000</td>\n",
       "      <td>-0.620000</td>\n",
       "      <td>-0.390000</td>\n",
       "      <td>0.805481</td>\n",
       "    </tr>\n",
       "    <tr>\n",
       "      <th>50%</th>\n",
       "      <td>0.050000</td>\n",
       "      <td>0.030000</td>\n",
       "      <td>0.000000</td>\n",
       "      <td>1.404457</td>\n",
       "    </tr>\n",
       "    <tr>\n",
       "      <th>75%</th>\n",
       "      <td>0.770000</td>\n",
       "      <td>0.680000</td>\n",
       "      <td>0.410000</td>\n",
       "      <td>2.232689</td>\n",
       "    </tr>\n",
       "    <tr>\n",
       "      <th>max</th>\n",
       "      <td>7.690000</td>\n",
       "      <td>15.719999</td>\n",
       "      <td>8.040000</td>\n",
       "      <td>15.804973</td>\n",
       "    </tr>\n",
       "  </tbody>\n",
       "</table>\n",
       "</div>"
      ],
      "text/plain": [
       "                  x             y             z     magnitude\n",
       "count  98262.000000  98262.000000  98262.000000  98262.000000\n",
       "mean       0.002586      0.032904     -0.010841      1.651970\n",
       "std        1.307661      1.303422      0.833543      1.172967\n",
       "min       -6.550000    -11.840000     -7.340000      0.000000\n",
       "25%       -0.630000     -0.620000     -0.390000      0.805481\n",
       "50%        0.050000      0.030000      0.000000      1.404457\n",
       "75%        0.770000      0.680000      0.410000      2.232689\n",
       "max        7.690000     15.719999      8.040000     15.804973"
      ]
     },
     "execution_count": 226,
     "metadata": {},
     "output_type": "execute_result"
    }
   ],
   "source": [
    "gyro_main.describe()"
   ]
  },
  {
   "cell_type": "code",
   "execution_count": 227,
   "metadata": {},
   "outputs": [],
   "source": [
    "test_dir = 'data/Testing Data'\n",
    "test_users = ['User001', 'User002', 'User003', 'User004', 'User005', 'User006', 'User007', 'User008', 'User009', 'User0010', 'User0011', 'User0012', 'User0013', 'User0014', 'User0015', 'User0016', 'User0017']\n",
    "\n",
    "test_accel_main=pd.DataFrame()\n",
    "test_gyro_main=pd.DataFrame()\n",
    "test_lin_accel_main=pd.DataFrame()\n",
    "test_magnet_main=pd.DataFrame()\n",
    "\n",
    "for user in test_users:\n",
    "    test_accel_data_path = os.path.join(test_dir, user, 'HTC - Front', 'accelDataM.txt')\n",
    "    test_gyro_data_path = os.path.join(test_dir, user, 'HTC - Front', 'gyroDataM.txt')\n",
    "    test_lin_accel_data_path = os.path.join(test_dir, user, 'HTC - Front', 'linearAccelDataM.txt')\n",
    "    \n",
    "    test_accel_data = pd.read_csv(test_accel_data_path, header=None, names=['timestamp', 'x', 'y', 'z'])\n",
    "    test_gyro_data = pd.read_csv(test_gyro_data_path, header=None, names=['timestamp', 'x', 'y', 'z'])\n",
    "    test_lin_accel_data = pd.read_csv(test_lin_accel_data_path, header=None, names=['timestamp', 'x', 'y', 'z'])\n",
    "    \n",
    "    test_accel_data['user']=user\n",
    "    test_gyro_data['user']=user\n",
    "    test_lin_accel_data['user']=user\n",
    "\n",
    "    test_accel_frames=[test_accel_main, test_accel_data]\n",
    "    test_gyro_frames=[test_gyro_main, test_gyro_data]\n",
    "    test_lin_accel_frames=[test_lin_accel_main, test_lin_accel_data]\n",
    "    \n",
    "    test_accel_main=pd.concat(test_accel_frames)\n",
    "    test_gyro_main=pd.concat(test_gyro_frames)\n",
    "    test_lin_accel_main=pd.concat(test_lin_accel_frames)\n",
    "\n",
    "    test_accel_main['magnitude'] = np.sqrt(test_accel_main['x']**2 + test_accel_main['y']**2 + test_accel_main['z']**2)\n",
    "    test_gyro_main['magnitude'] = np.sqrt(test_gyro_main['x']**2 + test_gyro_main['y']**2 + test_gyro_main['z']**2)\n"
   ]
  },
  {
   "cell_type": "code",
   "execution_count": 228,
   "metadata": {},
   "outputs": [
    {
     "name": "stdout",
     "output_type": "stream",
     "text": [
      "                 timestamp     x     y         z     user  magnitude\n",
      "0  2017-04-26 17:01:45:525 -0.28  4.08  8.950000  User001   9.840086\n",
      "1  2017-04-26 17:01:45:564  0.72  3.56  8.679999  User001   9.409271\n",
      "2  2017-04-26 17:01:45:606  0.47  3.22  8.900000  User001   9.476249\n",
      "3  2017-04-26 17:01:45:608 -0.46  2.65  9.650000  User001  10.017814\n",
      "4  2017-04-26 17:01:45:608 -0.05  2.93  9.420000  User001   9.865283\n",
      "                 timestamp     x     y     z     user  magnitude\n",
      "0  2017-04-26 17:01:45:525  0.00  0.00  0.00  User001   0.000000\n",
      "1  2017-04-26 17:01:45:566 -0.99 -0.75  0.02  User001   1.242175\n",
      "2  2017-04-26 17:01:45:607 -0.99 -0.53 -0.03  User001   1.123343\n",
      "3  2017-04-26 17:01:45:609 -0.86 -0.34 -0.03  User001   0.925257\n",
      "4  2017-04-26 17:01:45:609 -0.94 -0.28 -0.08  User001   0.984073\n"
     ]
    }
   ],
   "source": [
    "print(test_accel_main.head())\n",
    "print(test_gyro_main.head())\n"
   ]
  },
  {
   "cell_type": "code",
   "execution_count": 229,
   "metadata": {},
   "outputs": [
    {
     "data": {
      "text/plain": [
       "(96378, 6)"
      ]
     },
     "execution_count": 229,
     "metadata": {},
     "output_type": "execute_result"
    }
   ],
   "source": [
    "test_accel_main.shape"
   ]
  },
  {
   "cell_type": "code",
   "execution_count": 230,
   "metadata": {},
   "outputs": [
    {
     "data": {
      "text/plain": [
       "Index(['timestamp', 'x', 'y', 'z', 'user', 'magnitude', 'mean_mag', 'peak',\n",
       "       'step', 'acc_activity'],\n",
       "      dtype='object')"
      ]
     },
     "execution_count": 230,
     "metadata": {},
     "output_type": "execute_result"
    }
   ],
   "source": [
    "accel_main.columns"
   ]
  },
  {
   "cell_type": "code",
   "execution_count": 231,
   "metadata": {},
   "outputs": [
    {
     "data": {
      "text/plain": [
       "Index(['timestamp', 'x', 'y', 'z', 'user', 'magnitude'], dtype='object')"
      ]
     },
     "execution_count": 231,
     "metadata": {},
     "output_type": "execute_result"
    }
   ],
   "source": [
    "test_accel_main.columns"
   ]
  },
  {
   "cell_type": "code",
   "execution_count": 232,
   "metadata": {},
   "outputs": [
    {
     "data": {
      "text/plain": [
       "(96376, 6)"
      ]
     },
     "execution_count": 232,
     "metadata": {},
     "output_type": "execute_result"
    }
   ],
   "source": [
    "test_gyro_main.shape"
   ]
  },
  {
   "cell_type": "code",
   "execution_count": 233,
   "metadata": {},
   "outputs": [
    {
     "data": {
      "text/plain": [
       "Index(['timestamp', 'x', 'y', 'z', 'user', 'magnitude'], dtype='object')"
      ]
     },
     "execution_count": 233,
     "metadata": {},
     "output_type": "execute_result"
    }
   ],
   "source": [
    "test_gyro_main.columns"
   ]
  },
  {
   "cell_type": "code",
   "execution_count": 234,
   "metadata": {},
   "outputs": [
    {
     "name": "stdout",
     "output_type": "stream",
     "text": [
      "Index(['timestamp', 'x', 'y', 'z', 'user', 'magnitude', 'mean_mag', 'peak',\n",
      "       'step', 'acc_activity'],\n",
      "      dtype='object')\n"
     ]
    }
   ],
   "source": [
    "print(accel_data.columns)"
   ]
  },
  {
   "cell_type": "code",
   "execution_count": 235,
   "metadata": {},
   "outputs": [],
   "source": [
    "accel_data = accel_data.drop(['mean_mag', 'peak', 'step'], axis=1)\n",
    "\n",
    "X_train = accel_data.drop('acc_activity', axis=1).to_numpy()\n",
    "X_test = test_accel_data.to_numpy()\n",
    "\n",
    "y_train = accel_data['acc_activity'].to_numpy()\n",
    "y_test = test_accel_data.to_numpy()\n",
    "\n",
    "\n"
   ]
  },
  {
   "cell_type": "code",
   "execution_count": null,
   "metadata": {},
   "outputs": [],
   "source": [
    "import tensorflow as tf\n",
    "import tensorflow as tf\n",
    "from tensorflow.keras.models import Sequential\n",
    "from tensorflow.keras.layers import Dense, Dropout, LSTM\n",
    "\n",
    "# define the model architecture\n",
    "model = tf.keras.Sequential([\n",
    "    tf.keras.layers.Dense(64, activation='relu', input_shape=(X_train.shape[1],)),\n",
    "    tf.keras.layers.Dense(32, activation='relu'),\n",
    "    tf.keras.layers.Dense(1, activation='sigmoid')\n",
    "])\n",
    "\n",
    "# compile the model with a loss function and optimizer\n",
    "model.compile(loss='binary_crossentropy', optimizer='adam', metrics=['accuracy'])\n",
    "\n",
    "# train the model using your training data\n",
    "model.fit(X_train, y_train, epochs=10, validation_data=(X_test, y_test))\n"
   ]
  }
 ],
 "metadata": {
  "kernelspec": {
   "display_name": "Python 3 (ipykernel)",
   "language": "python",
   "name": "python3"
  },
  "language_info": {
   "codemirror_mode": {
    "name": "ipython",
    "version": 3
   },
   "file_extension": ".py",
   "mimetype": "text/x-python",
   "name": "python",
   "nbconvert_exporter": "python",
   "pygments_lexer": "ipython3",
   "version": "3.8.8"
  },
  "toc": {
   "base_numbering": 1,
   "nav_menu": {},
   "number_sections": true,
   "sideBar": true,
   "skip_h1_title": false,
   "title_cell": "Table of Contents",
   "title_sidebar": "Contents",
   "toc_cell": false,
   "toc_position": {},
   "toc_section_display": true,
   "toc_window_display": false
  },
  "varInspector": {
   "cols": {
    "lenName": 16,
    "lenType": 16,
    "lenVar": 40
   },
   "kernels_config": {
    "python": {
     "delete_cmd_postfix": "",
     "delete_cmd_prefix": "del ",
     "library": "var_list.py",
     "varRefreshCmd": "print(var_dic_list())"
    },
    "r": {
     "delete_cmd_postfix": ") ",
     "delete_cmd_prefix": "rm(",
     "library": "var_list.r",
     "varRefreshCmd": "cat(var_dic_list()) "
    }
   },
   "types_to_exclude": [
    "module",
    "function",
    "builtin_function_or_method",
    "instance",
    "_Feature"
   ],
   "window_display": false
  },
  "vscode": {
   "interpreter": {
    "hash": "6f242833d004fcbaf95389f99e28acc3b5f498ceae9f588e1cd33bb12313f253"
   }
  }
 },
 "nbformat": 4,
 "nbformat_minor": 2
}
